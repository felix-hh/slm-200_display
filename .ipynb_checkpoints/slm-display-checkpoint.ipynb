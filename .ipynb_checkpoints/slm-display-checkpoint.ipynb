{
 "cells": [
  {
   "cell_type": "markdown",
   "metadata": {},
   "source": [
    "# Imports"
   ]
  },
  {
   "cell_type": "code",
   "execution_count": 167,
   "metadata": {},
   "outputs": [],
   "source": [
    "import numpy as np\n",
    "import os\n",
    "import cv2"
   ]
  },
  {
   "cell_type": "markdown",
   "metadata": {},
   "source": [
    "# SLM image display"
   ]
  },
  {
   "cell_type": "markdown",
   "metadata": {},
   "source": [
    "Looking at the SLM-200 manual we can encode rgb to 10-bit in the following way\n",
    "\n",
    "<img src=\"rgb_to_10bit.png\" alt=\"Drawing\" style=\"width: 500px;\"/>"
   ]
  },
  {
   "cell_type": "code",
   "execution_count": 166,
   "metadata": {},
   "outputs": [
    {
     "name": "stdout",
     "output_type": "stream",
     "text": [
      "255\n",
      "0b11111111\n"
     ]
    }
   ],
   "source": [
    "#each channel in a pixel has an 8-bit long representation\n",
    "value=255\n",
    "print(value)\n",
    "print(bin(value)) "
   ]
  },
  {
   "cell_type": "code",
   "execution_count": 139,
   "metadata": {},
   "outputs": [
    {
     "name": "stdout",
     "output_type": "stream",
     "text": [
      "7\n",
      "0b111\n"
     ]
    }
   ],
   "source": [
    "#integer division by 32 gives the first 3bits, range 0-7. \n",
    "three_bit = value//32\n",
    "print(three_bit) \n",
    "print(bin(three_bit))"
   ]
  },
  {
   "cell_type": "code",
   "execution_count": 140,
   "metadata": {},
   "outputs": [
    {
     "name": "stdout",
     "output_type": "stream",
     "text": [
      "15\n",
      "0b1111\n"
     ]
    }
   ],
   "source": [
    "#integer division by 16 gives the first 4bits, range 0-15. \n",
    "four_bit = value//16\n",
    "print(four_bit) \n",
    "print(bin(four_bit))"
   ]
  },
  {
   "cell_type": "markdown",
   "metadata": {},
   "source": [
    "To sum up, we want to convert from 10bit to 8bit tuples. Extract the first 3 bits for red then the next 3 bits for green and finally the last 4 bits for blue (see figure). That's how we convert the 10-bit grayscale to an rgb image. "
   ]
  },
  {
   "cell_type": "markdown",
   "metadata": {},
   "source": [
    "# Generate data"
   ]
  },
  {
   "cell_type": "code",
   "execution_count": 269,
   "metadata": {},
   "outputs": [
    {
     "data": {
      "text/plain": [
       "array([241, 121,   6], dtype=uint8)"
      ]
     },
     "execution_count": 269,
     "metadata": {},
     "output_type": "execute_result"
    }
   ],
   "source": [
    "#A useful function for testing rgb\n",
    "def make_rgb(random= False):\n",
    "    \"\"\"\n",
    "    Generates an rgb tuple\n",
    "    \"\"\"\n",
    "    if random:\n",
    "        values = np.floor(np.random.random(3)*255)\n",
    "    else:\n",
    "        values = [255,255,255]\n",
    "    rgb = np.array(values).reshape(3,)\n",
    "    rgb = np.uint8(rgb)\n",
    "    return rgb\n",
    "\n",
    "make_rgb(1)"
   ]
  },
  {
   "cell_type": "code",
   "execution_count": 270,
   "metadata": {},
   "outputs": [
    {
     "name": "stdout",
     "output_type": "stream",
     "text": [
      "[255 255 255]\n"
     ]
    }
   ],
   "source": [
    "rgb = make_rgb()\n",
    "print(rgb)"
   ]
  },
  {
   "cell_type": "code",
   "execution_count": 268,
   "metadata": {},
   "outputs": [],
   "source": [
    "#A useful function for testing 10bit\n",
    "def make_10bit(random=False):\n",
    "    \"\"\"\n",
    "    Generates a 10-bit value\n",
    "    \"\"\"\n",
    "    if random:\n",
    "        value = np.floor(np.random.random()*1024)\n",
    "    else:\n",
    "        value = 1023\n",
    "    \n",
    "    value = np.uint16(value)\n",
    "    return value"
   ]
  },
  {
   "cell_type": "code",
   "execution_count": 323,
   "metadata": {},
   "outputs": [
    {
     "name": "stdout",
     "output_type": "stream",
     "text": [
      "1023\n"
     ]
    }
   ],
   "source": [
    "ten_bit = make_10bit()\n",
    "print(ten_bit)"
   ]
  },
  {
   "cell_type": "markdown",
   "metadata": {},
   "source": [
    "# Conversion"
   ]
  },
  {
   "cell_type": "code",
   "execution_count": 360,
   "metadata": {},
   "outputs": [
    {
     "name": "stdout",
     "output_type": "stream",
     "text": [
      "RGB: [13 36 70] Greyscale: 726\n"
     ]
    }
   ],
   "source": [
    "rgb = make_rgb(random=True)\n",
    "grey = make_10bit(random=True)\n",
    "print(\"RGB: {} Greyscale: {}\".format(rgb, grey))"
   ]
  },
  {
   "cell_type": "code",
   "execution_count": 361,
   "metadata": {},
   "outputs": [
    {
     "data": {
      "text/plain": [
       "'0b1011010110'"
      ]
     },
     "execution_count": 361,
     "metadata": {},
     "output_type": "execute_result"
    }
   ],
   "source": [
    "bin(grey)"
   ]
  },
  {
   "cell_type": "code",
   "execution_count": 362,
   "metadata": {},
   "outputs": [
    {
     "data": {
      "text/plain": [
       "array([0, 0, 0, 0, 0, 0, 1, 0, 1, 1, 0, 1, 0, 1, 1, 0], dtype=uint8)"
      ]
     },
     "execution_count": 362,
     "metadata": {},
     "output_type": "execute_result"
    }
   ],
   "source": [
    "np.unpackbits(np.array([grey]).view(np.uint8)[::-1])"
   ]
  },
  {
   "cell_type": "code",
   "execution_count": 363,
   "metadata": {},
   "outputs": [
    {
     "name": "stdout",
     "output_type": "stream",
     "text": [
      "[  2 214]\n"
     ]
    }
   ],
   "source": [
    "print(np.array([grey]).view(np.uint8)[::-1])"
   ]
  },
  {
   "cell_type": "code",
   "execution_count": 364,
   "metadata": {},
   "outputs": [
    {
     "data": {
      "text/plain": [
       "array([0, 0, 0, 0, 0, 0, 1, 0, 1, 1, 0, 1, 0, 1, 1, 0], dtype=uint8)"
      ]
     },
     "execution_count": 364,
     "metadata": {},
     "output_type": "execute_result"
    }
   ],
   "source": [
    "binary = np.unpackbits(np.array([grey]).view(np.uint8)[::-1])\n",
    "binary"
   ]
  },
  {
   "cell_type": "code",
   "execution_count": 367,
   "metadata": {},
   "outputs": [
    {
     "name": "stdout",
     "output_type": "stream",
     "text": [
      "[0, 2, 4, 0, 16, 0, 64, 128, 0, 512, 0, 0, 0, 0, 0, 0]\n",
      "726\n"
     ]
    }
   ],
   "source": [
    "a = [2**(i) if x ==1 else 0 for i, x in enumerate(binary[::-1])]\n",
    "print(a)\n",
    "print(sum(a))"
   ]
  },
  {
   "cell_type": "code",
   "execution_count": 374,
   "metadata": {},
   "outputs": [],
   "source": [
    "def convert_pixel_10bit_rgb(pixel, verbose=False):\n",
    "    pixel = np.uint16(pixel)\n",
    "    if verbose:\n",
    "        print (bin(pixel))\n",
    "    \n",
    "    binary = np.unpackbits(np.array([pixel]).view(np.uint8)[::-1])\n",
    "    if verbose:\n",
    "        print(\"binary: \", binary[6:])\n",
    "    \n",
    "    result = binary[6:]\n",
    "    #Now we use the first 3 bits for red, the next 3 bits for green and the last 4 bits for blue\n",
    "    red = np.concatenate([result[:3], np.zeros(5)])\n",
    "    green = np.concatenate([result[3:6], np.zeros(5)])\n",
    "    blue = np.concatenate([result[6:10], np.zeros(4)])\n",
    "\n",
    "    return binary[6:]"
   ]
  },
  {
   "cell_type": "code",
   "execution_count": 375,
   "metadata": {},
   "outputs": [
    {
     "name": "stdout",
     "output_type": "stream",
     "text": [
      "0b1111111111\n",
      "result:  [1 1 1 1 1 1 1 1 1 1]\n"
     ]
    },
    {
     "data": {
      "text/plain": [
       "array([1, 1, 1, 1, 1, 1, 1, 1, 1, 1], dtype=uint8)"
      ]
     },
     "execution_count": 375,
     "metadata": {},
     "output_type": "execute_result"
    }
   ],
   "source": [
    "convert_pixel_10bit_rgb(1023, True)"
   ]
  },
  {
   "cell_type": "markdown",
   "metadata": {},
   "source": [
    "It seems that we can take on individual pixels. Now let's use convert_pixel_10bit to convert each pixel of an image"
   ]
  },
  {
   "cell_type": "markdown",
   "metadata": {},
   "source": [
    "# Image conversion"
   ]
  },
  {
   "cell_type": "code",
   "execution_count": 262,
   "metadata": {},
   "outputs": [
    {
     "data": {
      "text/plain": [
       "array([[1023, 1023, 1023, ..., 1023, 1023, 1023],\n",
       "       [1023, 1023, 1023, ..., 1023, 1023, 1023],\n",
       "       [1023, 1023, 1023, ..., 1023, 1023, 1023],\n",
       "       ...,\n",
       "       [1023, 1023, 1023, ..., 1023, 1023, 1023],\n",
       "       [1023, 1023, 1023, ..., 1023, 1023, 1023],\n",
       "       [1023, 1023, 1023, ..., 1023, 1023, 1023]], dtype=uint16)"
      ]
     },
     "execution_count": 262,
     "metadata": {},
     "output_type": "execute_result"
    }
   ],
   "source": [
    "path = (\"RGB_to_10bit.png\")\n",
    "image = cv2.imread(path)\n",
    "new = np.empty((image.shape[0], image.shape[1]), dtype=np.uint16)\n",
    "for i, row in enumerate(image):\n",
    "    for j, pixel in enumerate(row):\n",
    "        new[i][j] = convert_pixel_10bit(pixel)\n",
    "\n",
    "new"
   ]
  },
  {
   "cell_type": "code",
   "execution_count": 263,
   "metadata": {},
   "outputs": [
    {
     "data": {
      "text/plain": [
       "849.4865532731868"
      ]
     },
     "execution_count": 263,
     "metadata": {},
     "output_type": "execute_result"
    }
   ],
   "source": [
    "new.mean()"
   ]
  },
  {
   "cell_type": "code",
   "execution_count": null,
   "metadata": {},
   "outputs": [],
   "source": []
  },
  {
   "cell_type": "code",
   "execution_count": null,
   "metadata": {},
   "outputs": [],
   "source": [
    "#Vectorize\n",
    "#Inverse process for convert_rgb"
   ]
  }
 ],
 "metadata": {
  "kernelspec": {
   "display_name": "Python 3",
   "language": "python",
   "name": "python3"
  },
  "language_info": {
   "codemirror_mode": {
    "name": "ipython",
    "version": 3
   },
   "file_extension": ".py",
   "mimetype": "text/x-python",
   "name": "python",
   "nbconvert_exporter": "python",
   "pygments_lexer": "ipython3",
   "version": "3.7.7"
  }
 },
 "nbformat": 4,
 "nbformat_minor": 4
}
