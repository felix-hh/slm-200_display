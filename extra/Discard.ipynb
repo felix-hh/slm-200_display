{
 "cells": [
  {
   "cell_type": "markdown",
   "metadata": {},
   "source": [
    "# Imports"
   ]
  },
  {
   "cell_type": "code",
   "execution_count": 1,
   "metadata": {},
   "outputs": [],
   "source": [
    "import numpy as np\n",
    "import os\n",
    "import cv2"
   ]
  },
  {
   "cell_type": "markdown",
   "metadata": {},
   "source": [
    "# Generate data"
   ]
  },
  {
   "cell_type": "code",
   "execution_count": 2,
   "metadata": {},
   "outputs": [
    {
     "data": {
      "text/plain": [
       "array([190, 224, 151], dtype=uint8)"
      ]
     },
     "execution_count": 2,
     "metadata": {},
     "output_type": "execute_result"
    }
   ],
   "source": [
    "#A useful function for testing rgb\n",
    "def make_rgb(random= False):\n",
    "    \"\"\"\n",
    "    Generates an rgb tuple\n",
    "    \"\"\"\n",
    "    if random:\n",
    "        values = np.floor(np.random.random(3)*255)\n",
    "    else:\n",
    "        values = [255,255,255]\n",
    "    rgb = np.array(values).reshape(3,)\n",
    "    rgb = np.uint8(rgb)\n",
    "    return rgb\n",
    "\n",
    "make_rgb(1)"
   ]
  },
  {
   "cell_type": "code",
   "execution_count": 3,
   "metadata": {},
   "outputs": [
    {
     "name": "stdout",
     "output_type": "stream",
     "text": [
      "[255 255 255]\n"
     ]
    }
   ],
   "source": [
    "rgb = make_rgb()\n",
    "print(rgb)"
   ]
  },
  {
   "cell_type": "markdown",
   "metadata": {},
   "source": [
    "# An example function"
   ]
  },
  {
   "cell_type": "code",
   "execution_count": 4,
   "metadata": {},
   "outputs": [
    {
     "name": "stdout",
     "output_type": "stream",
     "text": [
      "[255 255 255]\n"
     ]
    }
   ],
   "source": [
    "rgb = make_rgb()\n",
    "print(rgb)#This is the first attempt I made to convert the data. \n",
    "def reducebits(rgb):\n",
    "    rgb = np.array(rgb).copy() #do not alter the source\n",
    "    rgb = np.uint8(rgb)\n",
    "    rgb = rgb.flatten()\n",
    "    if len(rgb)!=3:\n",
    "        raise Exception(\"RGB is not an iterable with 3 channels\")\n",
    "        \n",
    "    for i, channel in enumerate(rgb):\n",
    "        if i == 2:\n",
    "            #this is the blue channel\n",
    "            rgb[i] = rgb[i]//16\n",
    "        else:\n",
    "            #these are the red and green channels\n",
    "            rgb[i] = rgb[i]//32    \n",
    "    return rgb        \n",
    "        "
   ]
  },
  {
   "cell_type": "code",
   "execution_count": 5,
   "metadata": {},
   "outputs": [
    {
     "name": "stdout",
     "output_type": "stream",
     "text": [
      "[ 7  7 15]\n"
     ]
    }
   ],
   "source": [
    "a = reducebits(rgb)\n",
    "print(a)"
   ]
  },
  {
   "cell_type": "markdown",
   "metadata": {},
   "source": [
    "We still need to convert to bits and concatenate. But it turns out that numpy has a convenient function so we can use that instead"
   ]
  },
  {
   "cell_type": "markdown",
   "metadata": {},
   "source": [
    "# Conversion"
   ]
  },
  {
   "cell_type": "code",
   "execution_count": 6,
   "metadata": {},
   "outputs": [],
   "source": [
    "def convert_pixel_10bit(rgb, verbose= False):\n",
    "    rgb = np.array(rgb).copy() #do not alter the source\n",
    "    rgb = np.uint8(rgb)\n",
    "    if len(rgb)!=3:\n",
    "        raise Exception(\"RGB is not an iterable with 3 channels\")\n",
    "    pad = np.zeros(6, dtype=np.uint8)\n",
    "        \n",
    "    rgb = rgb.reshape(3,1)\n",
    "    if verbose:\n",
    "        print(\"Input\")\n",
    "        print(rgb)\n",
    "        print()\n",
    "    rgb = np.unpackbits(rgb, axis=1)\n",
    "    rgb = np.concatenate([rgb[0][:3],rgb[1][:3],rgb[2][:4]])\n",
    "    if verbose:\n",
    "        print(\"10-bit\")\n",
    "        print(rgb)\n",
    "        print()\n",
    "    rgb = np.concatenate([pad, rgb])\n",
    "    mask = np.array([2**i*x for i,x in enumerate(rgb[::-1])])\n",
    "    rgb = np.sum(mask)\n",
    "    if verbose:\n",
    "        print(\"integer in 0-1023 range\")\n",
    "        print(rgb)\n",
    "        print()\n",
    "    return rgb "
   ]
  },
  {
   "cell_type": "code",
   "execution_count": 8,
   "metadata": {},
   "outputs": [
    {
     "name": "stdout",
     "output_type": "stream",
     "text": [
      "Input\n",
      "[[ 95]\n",
      " [  0]\n",
      " [211]]\n",
      "\n",
      "10-bit\n",
      "[0 1 0 0 0 0 1 1 0 1]\n",
      "\n",
      "integer in 0-1023 range\n",
      "269\n",
      "\n"
     ]
    },
    {
     "data": {
      "text/plain": [
       "269"
      ]
     },
     "execution_count": 8,
     "metadata": {},
     "output_type": "execute_result"
    }
   ],
   "source": [
    "rgb = make_rgb(random=True)\n",
    "convert_pixel_10bit(rgb, verbose=True)"
   ]
  },
  {
   "cell_type": "code",
   "execution_count": null,
   "metadata": {},
   "outputs": [],
   "source": []
  }
 ],
 "metadata": {
  "kernelspec": {
   "display_name": "Python 3",
   "language": "python",
   "name": "python3"
  },
  "language_info": {
   "codemirror_mode": {
    "name": "ipython",
    "version": 3
   },
   "file_extension": ".py",
   "mimetype": "text/x-python",
   "name": "python",
   "nbconvert_exporter": "python",
   "pygments_lexer": "ipython3",
   "version": "3.7.7"
  }
 },
 "nbformat": 4,
 "nbformat_minor": 4
}
