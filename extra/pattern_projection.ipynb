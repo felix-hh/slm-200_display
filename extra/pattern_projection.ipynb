{
 "cells": [
  {
   "cell_type": "code",
   "execution_count": 1,
   "metadata": {},
   "outputs": [],
   "source": [
    "# Code by Florian Schiffers\n",
    "# mail to: florian.schiffers@northwestern,.edu\n",
    "# Written: 03/22/2019"
   ]
  },
  {
   "cell_type": "code",
   "execution_count": 2,
   "metadata": {},
   "outputs": [],
   "source": [
    "import numpy as np\n",
    "import cv2\n",
    "import matplotlib.pyplot as plt\n",
    "import numpy as np\n",
    "import time"
   ]
  },
  {
   "cell_type": "code",
   "execution_count": 3,
   "metadata": {},
   "outputs": [],
   "source": [
    "# Write down screen resolution for each monitor\n",
    "height1 = 1080\n",
    "width1 = 1920\n",
    "\n",
    "# In case you use 2 monitors\n",
    "height2= 1080\n",
    "width2 = 1920\n",
    "\n",
    "# Resolution of the projector used (here the resoluton of the picopro)\n",
    "height_projector = 720\n",
    "width_projector = 1280"
   ]
  },
  {
   "cell_type": "code",
   "execution_count": 4,
   "metadata": {},
   "outputs": [
    {
     "name": "stdout",
     "output_type": "stream",
     "text": [
      "(720, 1280, 5)\n"
     ]
    }
   ],
   "source": [
    "# Create spatial coordinates\n",
    "x = np.linspace(1,width_projector,width_projector)\n",
    "y = np.linspace(1,height_projector,height_projector)\n",
    "\n",
    "# Frequencies in x and y direction\n",
    "nu_x = 0\n",
    "nu_y = 1/25\n",
    "\n",
    "# Phase Shifts (first entry is white light modulation)\n",
    "theta = [0,0,np.pi/2,np.pi,3/2*np.pi]\n",
    "[X,Y,Theta] = np.meshgrid(x,y,theta)\n",
    "\n",
    "# Calculate Phase Shifts\n",
    "phase = (nu_x*X + nu_y*Y) + Theta\n",
    "# Simple formula to create fringes between 0 and 1:\n",
    "modulation = (np.sin(phase) + 1)/2\n",
    "\n",
    "# Create the white illumination pattern and add it to the modulation matrix\n",
    "white_img = np.ones((height_projector,width_projector))\n",
    "modulation[:,:,0] = white_img\n",
    "\n",
    "print(modulation.shape)\n"
   ]
  },
  {
   "cell_type": "code",
   "execution_count": 6,
   "metadata": {},
   "outputs": [],
   "source": [
    "[height2,width2,num_images] = modulation.shape\n",
    "\n",
    "window_name = 'projector'   \n",
    "cv2.namedWindow(window_name, cv2.WND_PROP_FULLSCREEN)\n",
    "    \n",
    "# If projector is placed right to main screen (see windows properties in your operating system)\n",
    "# if the pattern is displayed at the wrong monitor you need to play around with the coordinates here until the image is displayed at the right screen\n",
    "cv2.moveWindow(window_name, width1, 0)\n",
    "    \n",
    "# Set some properties to make it full screen and borderless\n",
    "cv2.setWindowProperty(window_name, cv2.WND_PROP_FULLSCREEN,cv2.WINDOW_FULLSCREEN)\n",
    "\n",
    "# Loop through \n",
    "for idx_img in range(0,num_images):\n",
    "    cur_img = modulation[:,:,idx_img]\n",
    "    cv2.imshow(window_name, cur_img)\n",
    "    # wait for 1000 ms ( syncrhonize this with your aquisition time)\n",
    "    cv2.waitKey(2000) # ms\n",
    "\n",
    "# Don't forgot to close all windows at the end of aquisition\n",
    "cv2.destroyAllWindows()"
   ]
  },
  {
   "cell_type": "code",
   "execution_count": null,
   "metadata": {},
   "outputs": [],
   "source": []
  }
 ],
 "metadata": {
  "kernelspec": {
   "display_name": "Python 3",
   "language": "python",
   "name": "python3"
  },
  "language_info": {
   "codemirror_mode": {
    "name": "ipython",
    "version": 3
   },
   "file_extension": ".py",
   "mimetype": "text/x-python",
   "name": "python",
   "nbconvert_exporter": "python",
   "pygments_lexer": "ipython3",
   "version": "3.7.7"
  }
 },
 "nbformat": 4,
 "nbformat_minor": 4
}
